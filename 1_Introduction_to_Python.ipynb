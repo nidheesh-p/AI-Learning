{
  "cells": [
    {
      "cell_type": "markdown",
      "metadata": {
        "id": "view-in-github",
        "colab_type": "text"
      },
      "source": [
        "<a href=\"https://colab.research.google.com/github/nidheesh-p/AI-Learning/blob/master/1_Introduction_to_Python.ipynb\" target=\"_parent\"><img src=\"https://colab.research.google.com/assets/colab-badge.svg\" alt=\"Open In Colab\"/></a>"
      ]
    },
    {
      "cell_type": "markdown",
      "metadata": {
        "id": "h6INxFMLSpPp"
      },
      "source": [
        "# Introduction to Python\n",
        "Python is a versatile and powerful programming language. It's known for its readability and simplicity, making it an excellent choice for beginners and professionals alike."
      ]
    },
    {
      "cell_type": "markdown",
      "metadata": {
        "id": "dO783quxSpPu"
      },
      "source": [
        "## Variables and Data Types\n",
        "Variables are used to store information that can be referenced and manipulated in a program. Python supports various data types such as integers, floats, strings, and booleans."
      ]
    },
    {
      "cell_type": "code",
      "execution_count": 3,
      "metadata": {
        "id": "OvVSUH06SpPw",
        "colab": {
          "base_uri": "https://localhost:8080/"
        },
        "outputId": "38362d9a-0f16-4082-d4a0-5653b14d912a"
      },
      "outputs": [
        {
          "output_type": "stream",
          "name": "stdout",
          "text": [
            "Age: 30 (Type: <class 'int'>)\n",
            "Height: 5.75 (Type: <class 'float'>)\n",
            "Name: John Doe (Type: <class 'str'>)\n",
            "Is student: True (Type: <class 'bool'>)\n"
          ]
        }
      ],
      "source": [
        "# Integer variable\n",
        "age = 30\n",
        "print(f'Age: {age} (Type: {type(age)})')\n",
        "\n",
        "# Float variable\n",
        "height = 5.75\n",
        "print(f'Height: {height} (Type: {type(height)})')\n",
        "\n",
        "# String variable\n",
        "name = \"John Doe\"\n",
        "print(f'Name: {name} (Type: {type(name)})')\n",
        "\n",
        "# Boolean variable\n",
        "is_student = True\n",
        "print(f'Is student: {is_student} (Type: {type(is_student)})')\n"
      ]
    },
    {
      "cell_type": "markdown",
      "metadata": {
        "id": "TG8bCuKxSpPz"
      },
      "source": [
        "## Strings\n",
        "Strings are sequences of characters. They are used to represent text in a program. Strings in Python are enclosed within either single quotes (`'`) or double quotes (`\"`)."
      ]
    },
    {
      "cell_type": "code",
      "execution_count": 6,
      "metadata": {
        "id": "jx_ZlKCQSpP5",
        "colab": {
          "base_uri": "https://localhost:8080/"
        },
        "outputId": "609bd2f1-7904-4612-960a-52e66b573b8d"
      },
      "outputs": [
        {
          "output_type": "stream",
          "name": "stdout",
          "text": [
            "Hello, World!\n",
            "Python is fun!\n"
          ]
        }
      ],
      "source": [
        "# String examples\n",
        "greeting = 'Hello, World!'\n",
        "print(greeting)\n",
        "message = \"Python is fun!\"\n",
        "print(message)"
      ]
    },
    {
      "cell_type": "markdown",
      "metadata": {
        "id": "D3CyR1UmSpP8"
      },
      "source": [
        "## Methods in Strings\n",
        "Python provides various methods to manipulate strings. Here are some commonly used string methods:"
      ]
    },
    {
      "cell_type": "code",
      "execution_count": 10,
      "metadata": {
        "id": "n31m7Yx3SpP-",
        "colab": {
          "base_uri": "https://localhost:8080/"
        },
        "outputId": "f4a6af31-afcc-4002-9f02-e1f1afe65927"
      },
      "outputs": [
        {
          "output_type": "stream",
          "name": "stdout",
          "text": [
            "hello, python!\n",
            "HELLO, PYTHON!\n",
            "Hello, World!\n",
            "['Hello', 'Python!']\n"
          ]
        }
      ],
      "source": [
        "# String methods examples\n",
        "text = \"Hello, Python!\"\n",
        "print(text.lower())    # Convert to lowercase\n",
        "print(text.upper())    # Convert to uppercase\n",
        "print(text.replace(\"Python\", \"World\"))  # Replace substring\n",
        "print(text.split(\", \"))  # Split the string"
      ]
    },
    {
      "cell_type": "markdown",
      "metadata": {
        "id": "2zaNv2SiSpP_"
      },
      "source": [
        "## Arithmetic Operators\n",
        "Arithmetic operators are used to perform mathematical operations. Here are some examples:"
      ]
    },
    {
      "cell_type": "code",
      "execution_count": 9,
      "metadata": {
        "id": "Fl8WHpx5SpQA",
        "colab": {
          "base_uri": "https://localhost:8080/"
        },
        "outputId": "47cdd51e-5cbe-448e-97a5-11fa34e7ef0b"
      },
      "outputs": [
        {
          "output_type": "stream",
          "name": "stdout",
          "text": [
            "Addition: 10 + 5 = 15\n",
            "Subtraction: 10 - 5 = 5\n",
            "Multiplication: 10 * 5 = 50\n",
            "Division: 10 / 5 = 2.0\n",
            "Modulus: 10 % 5 = 0\n",
            "Exponentiation: 10 ** 5 = 100000\n"
          ]
        }
      ],
      "source": [
        "# Arithmetic operators examples\n",
        "a = 10\n",
        "b = 5\n",
        "print(f'Addition: {a} + {b} = {a + b}')\n",
        "print(f'Subtraction: {a} - {b} = {a - b}')\n",
        "print(f'Multiplication: {a} * {b} = {a * b}')\n",
        "print(f'Division: {a} / {b} = {a / b}')\n",
        "print(f'Modulus: {a} % {b} = {a % b}')\n",
        "print(f'Exponentiation: {a} ** {b} = {a ** b}')"
      ]
    },
    {
      "cell_type": "markdown",
      "metadata": {
        "id": "snMB-rUsSpQB"
      },
      "source": [
        "## Comparison Operators\n",
        "Comparison operators are used to compare values. Here are some examples:"
      ]
    },
    {
      "cell_type": "code",
      "execution_count": 8,
      "metadata": {
        "id": "aBB3vmqPSpQC",
        "colab": {
          "base_uri": "https://localhost:8080/"
        },
        "outputId": "db6212bf-0247-4e69-9451-8b30f38d9d3f"
      },
      "outputs": [
        {
          "output_type": "stream",
          "name": "stdout",
          "text": [
            "10 == 20: False\n",
            "10 != 20: True\n",
            "10 > 20: False\n",
            "10 < 20: True\n",
            "10 >= 20: False\n",
            "10 <= 20: True\n"
          ]
        }
      ],
      "source": [
        "# Comparison operators examples\n",
        "x = 10\n",
        "y = 20\n",
        "print(f'{x} == {y}: {x == y}')  # Equal to\n",
        "print(f'{x} != {y}: {x != y}')  # Not equal to\n",
        "print(f'{x} > {y}: {x > y}')    # Greater than\n",
        "print(f'{x} < {y}: {x < y}')    # Less than\n",
        "print(f'{x} >= {y}: {x >= y}')  # Greater than or equal to\n",
        "print(f'{x} <= {y}: {x <= y}')  # Less than or equal to"
      ]
    },
    {
      "cell_type": "markdown",
      "metadata": {
        "id": "7GgicOYVSpQC"
      },
      "source": [
        "## Logical Operators\n",
        "Logical operators are used to combine conditional statements. Here are some examples:"
      ]
    },
    {
      "cell_type": "code",
      "execution_count": 7,
      "metadata": {
        "id": "B4guum2aSpQC",
        "colab": {
          "base_uri": "https://localhost:8080/"
        },
        "outputId": "2587b139-6a54-457a-b74f-7865a2e6f1ed"
      },
      "outputs": [
        {
          "output_type": "stream",
          "name": "stdout",
          "text": [
            "p and q: False\n",
            "p or q: True\n",
            "not p: False\n"
          ]
        }
      ],
      "source": [
        "# Logical operators examples\n",
        "p = True\n",
        "q = False\n",
        "print(f'p and q: {p and q}')  # Logical AND\n",
        "print(f'p or q: {p or q}')    # Logical OR\n",
        "print(f'not p: {not p}')      # Logical NOT"
      ]
    }
  ],
  "metadata": {
    "kernelspec": {
      "display_name": "Python 3 (ipykernel)",
      "language": "python",
      "name": "python3"
    },
    "language_info": {
      "codemirror_mode": {
        "name": "ipython",
        "version": 3
      },
      "file_extension": ".py",
      "mimetype": "text/x-python",
      "name": "python",
      "nbconvert_exporter": "python",
      "pygments_lexer": "ipython3",
      "version": "3.11.5"
    },
    "colab": {
      "provenance": [],
      "toc_visible": true,
      "include_colab_link": true
    }
  },
  "nbformat": 4,
  "nbformat_minor": 0
}