{
  "cells": [
    {
      "cell_type": "markdown",
      "metadata": {
        "id": "view-in-github",
        "colab_type": "text"
      },
      "source": [
        "<a href=\"https://colab.research.google.com/github/nidheesh-p/AI-Learning/blob/master/2_Python_Data_Structures.ipynb\" target=\"_parent\"><img src=\"https://colab.research.google.com/assets/colab-badge.svg\" alt=\"Open In Colab\"/></a>"
      ]
    },
    {
      "cell_type": "markdown",
      "metadata": {
        "id": "C47NOz6iSqZJ"
      },
      "source": [
        "# Python Data Structures\n",
        "In this notebook, we will cover various data structures in Python including lists, tuples, sets, and dictionaries. We will also explore some common methods and operations for each of these data structures."
      ]
    },
    {
      "cell_type": "markdown",
      "metadata": {
        "id": "4b3q7SV_SqZR"
      },
      "source": [
        "## Lists\n",
        "Lists are ordered collections of items. Lists are mutable, meaning their contents can be changed. Here are some common methods and operations you can perform on lists."
      ]
    },
    {
      "cell_type": "code",
      "execution_count": 1,
      "metadata": {
        "id": "NZT9SAlFSqZU",
        "colab": {
          "base_uri": "https://localhost:8080/"
        },
        "outputId": "4f659be6-3696-4561-ace0-36849859be9d"
      },
      "outputs": [
        {
          "output_type": "stream",
          "name": "stdout",
          "text": [
            "['apple', 'banana', 'cherry']\n",
            "['apple', 'banana', 'cherry', 'orange']\n",
            "['apple', 'cherry', 'orange']\n",
            "cherry\n",
            "orange\n"
          ]
        }
      ],
      "source": [
        "# List examples\n",
        "fruits = ['apple', 'banana', 'cherry']\n",
        "print(fruits)\n",
        "\n",
        "# Append an item to the list\n",
        "fruits.append('orange')\n",
        "print(fruits)\n",
        "\n",
        "# Remove an item from the list\n",
        "fruits.remove('banana')\n",
        "print(fruits)\n",
        "\n",
        "# Accessing list elements\n",
        "print(fruits[1])  # Second item\n",
        "print(fruits[-1]) # Last item"
      ]
    },
    {
      "cell_type": "markdown",
      "metadata": {
        "id": "XTi-9_X0SqZZ"
      },
      "source": [
        "## Slicing in Python\n",
        "Slicing is used to access a range of elements in a list or a string. Here are some examples:"
      ]
    },
    {
      "cell_type": "code",
      "execution_count": 2,
      "metadata": {
        "id": "EXYQajFrSqZZ",
        "colab": {
          "base_uri": "https://localhost:8080/"
        },
        "outputId": "388c704e-c8c1-4eeb-dd8b-71e4e5014441"
      },
      "outputs": [
        {
          "output_type": "stream",
          "name": "stdout",
          "text": [
            "[2, 3, 4]\n",
            "[0, 1, 2]\n",
            "[5, 6, 7, 8, 9]\n",
            "[7, 8, 9]\n",
            "World\n",
            "Hello\n",
            "World!\n",
            "World!\n"
          ]
        }
      ],
      "source": [
        "# Slicing lists\n",
        "numbers = [0, 1, 2, 3, 4, 5, 6, 7, 8, 9]\n",
        "print(numbers[2:5])   # Elements from index 2 to 4\n",
        "print(numbers[:3])    # First three elements\n",
        "print(numbers[5:])    # Elements from index 5 to the end\n",
        "print(numbers[-3:])   # Last three elements\n",
        "\n",
        "# Slicing strings\n",
        "text = 'Hello, World!'\n",
        "print(text[7:12])    # Characters from index 7 to 11\n",
        "print(text[:5])      # First five characters\n",
        "print(text[7:])      # Characters from index 7 to the end\n",
        "print(text[-6:])     # Last six characters"
      ]
    },
    {
      "cell_type": "markdown",
      "metadata": {
        "id": "KanCgF-cSqZa"
      },
      "source": [
        "## Joining and Splitting Lists\n",
        "The `join` method is used to convert a list into a string, and the `split` method is used to split a string into a list. Here are some examples:"
      ]
    },
    {
      "cell_type": "code",
      "execution_count": 3,
      "metadata": {
        "id": "fvcF7uRtSqZc",
        "colab": {
          "base_uri": "https://localhost:8080/"
        },
        "outputId": "3fc8df95-3933-4fce-d6fa-ecb6c0cf9ce6"
      },
      "outputs": [
        {
          "output_type": "stream",
          "name": "stdout",
          "text": [
            "Python is fun\n",
            "['Python', 'is', 'fun']\n"
          ]
        }
      ],
      "source": [
        "# Join a list into a string\n",
        "words = ['Python', 'is', 'fun']\n",
        "sentence = ' '.join(words)\n",
        "print(sentence)\n",
        "\n",
        "# Split a string into a list\n",
        "text = 'Python is fun'\n",
        "word_list = text.split(' ')\n",
        "print(word_list)"
      ]
    },
    {
      "cell_type": "markdown",
      "metadata": {
        "id": "txlcwgFRSqZd"
      },
      "source": [
        "## Tuples\n",
        "Tuples are ordered collections of items, similar to lists. However, tuples are immutable, meaning their contents cannot be changed."
      ]
    },
    {
      "cell_type": "code",
      "execution_count": 4,
      "metadata": {
        "id": "8eiYy65jSqZe",
        "colab": {
          "base_uri": "https://localhost:8080/"
        },
        "outputId": "06ab5575-fffa-4b95-9eda-5165115e6e4a"
      },
      "outputs": [
        {
          "output_type": "stream",
          "name": "stdout",
          "text": [
            "(1920, 1080)\n",
            "1920\n",
            "1080\n"
          ]
        }
      ],
      "source": [
        "# Tuple examples\n",
        "dimensions = (1920, 1080)\n",
        "print(dimensions)\n",
        "print(dimensions[0])\n",
        "print(dimensions[1])\n",
        "\n",
        "# Tuples are immutable\n",
        "# dimensions[0] = 1280  # This will raise an error"
      ]
    },
    {
      "cell_type": "markdown",
      "metadata": {
        "id": "f3G3rJC3SqZf"
      },
      "source": [
        "## Sets\n",
        "Sets are unordered collections of unique items. They are mutable and allow for efficient membership testing."
      ]
    },
    {
      "cell_type": "code",
      "execution_count": 5,
      "metadata": {
        "id": "DBGQ5qllSqZg",
        "colab": {
          "base_uri": "https://localhost:8080/"
        },
        "outputId": "1d4219b9-6a07-44a3-9b45-43ac18b41c01"
      },
      "outputs": [
        {
          "output_type": "stream",
          "name": "stdout",
          "text": [
            "{'apple', 'banana', 'cherry'}\n",
            "{'orange', 'apple', 'banana', 'cherry'}\n",
            "{'apple', 'cherry', 'grape', 'orange', 'banana', 'mango'}\n",
            "{'apple', 'cherry', 'grape', 'orange', 'mango'}\n"
          ]
        }
      ],
      "source": [
        "# Set examples\n",
        "fruits = {'apple', 'banana', 'cherry'}\n",
        "print(fruits)\n",
        "\n",
        "# Add an item to the set\n",
        "fruits.add('orange')\n",
        "print(fruits)\n",
        "\n",
        "# Update the set with multiple items\n",
        "fruits.update(['mango', 'grape'])\n",
        "print(fruits)\n",
        "\n",
        "# Remove an item from the set\n",
        "fruits.remove('banana')\n",
        "print(fruits)"
      ]
    },
    {
      "cell_type": "markdown",
      "metadata": {
        "id": "zogd5YoPSqZi"
      },
      "source": [
        "## Dictionaries\n",
        "Dictionaries are collections of key-value pairs. They are unordered and mutable."
      ]
    },
    {
      "cell_type": "code",
      "execution_count": 6,
      "metadata": {
        "id": "q6mmYMRVSqZj",
        "colab": {
          "base_uri": "https://localhost:8080/"
        },
        "outputId": "05d84193-079c-4415-b347-87f284dae065"
      },
      "outputs": [
        {
          "output_type": "stream",
          "name": "stdout",
          "text": [
            "{'name': 'Alice', 'age': 25, 'courses': ['Math', 'CompSci']}\n",
            "Alice\n",
            "25\n",
            "{'name': 'Alice', 'age': 26, 'courses': ['Math', 'CompSci'], 'phone': '555-5555'}\n"
          ]
        }
      ],
      "source": [
        "# Dictionary examples\n",
        "student = {\n",
        "    'name': 'Alice',\n",
        "    'age': 25,\n",
        "    'courses': ['Math', 'CompSci']\n",
        "}\n",
        "print(student)\n",
        "\n",
        "# Accessing dictionary values\n",
        "print(student['name'])\n",
        "print(student['age'])\n",
        "\n",
        "# Adding and updating dictionary values\n",
        "student['age'] = 26\n",
        "student['phone'] = '555-5555'\n",
        "print(student)"
      ]
    }
  ],
  "metadata": {
    "kernelspec": {
      "display_name": "Python 3 (ipykernel)",
      "language": "python",
      "name": "python3"
    },
    "language_info": {
      "codemirror_mode": {
        "name": "ipython",
        "version": 3
      },
      "file_extension": ".py",
      "mimetype": "text/x-python",
      "name": "python",
      "nbconvert_exporter": "python",
      "pygments_lexer": "ipython3",
      "version": "3.11.5"
    },
    "colab": {
      "provenance": [],
      "include_colab_link": true
    }
  },
  "nbformat": 4,
  "nbformat_minor": 0
}