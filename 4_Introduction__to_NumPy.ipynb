{
  "cells": [
    {
      "cell_type": "markdown",
      "metadata": {
        "id": "view-in-github",
        "colab_type": "text"
      },
      "source": [
        "<a href=\"https://colab.research.google.com/github/nidheesh-p/AI-Learning/blob/master/4_Introduction__to_NumPy.ipynb\" target=\"_parent\"><img src=\"https://colab.research.google.com/assets/colab-badge.svg\" alt=\"Open In Colab\"/></a>"
      ]
    },
    {
      "cell_type": "markdown",
      "metadata": {
        "id": "OzOX6AAvTHPM"
      },
      "source": [
        "# Introduction to NumPy\n",
        "NumPy is a powerful library for numerical computing in Python. It provides support for arrays, matrices, and many mathematical functions to operate on these data structures."
      ]
    },
    {
      "cell_type": "markdown",
      "metadata": {
        "id": "g2uNvommTHPS"
      },
      "source": [
        "## Importing NumPy\n",
        "To use NumPy, you first need to import it. The convention is to import NumPy using the alias `np`."
      ]
    },
    {
      "cell_type": "code",
      "execution_count": 1,
      "metadata": {
        "id": "UQWqUG4rTHPV"
      },
      "outputs": [],
      "source": [
        "# Importing NumPy\n",
        "import numpy as np\n"
      ]
    },
    {
      "cell_type": "code",
      "source": [
        "arr = np.array([1, 2, 3, 4])\n",
        "print(arr)\n",
        "print(np.average(arr))\n",
        "print(arr.std())\n",
        "print(arr.mean())"
      ],
      "metadata": {
        "colab": {
          "base_uri": "https://localhost:8080/"
        },
        "id": "1LiIEpLqlHbQ",
        "outputId": "5637eadb-cbd5-48ef-a8a2-faf9cdce3336"
      },
      "execution_count": 9,
      "outputs": [
        {
          "output_type": "stream",
          "name": "stdout",
          "text": [
            "[1 2 3 4]\n",
            "2.5\n",
            "1.118033988749895\n",
            "2.5\n"
          ]
        }
      ]
    },
    {
      "cell_type": "markdown",
      "metadata": {
        "id": "5swftKA5THPY"
      },
      "source": [
        "## Essential NumPy Functions\n",
        "Here are some essential NumPy functions that you will commonly use:"
      ]
    },
    {
      "cell_type": "code",
      "execution_count": 10,
      "metadata": {
        "id": "_tTe0HYmTHPZ",
        "outputId": "a3e8782a-6535-4d75-e352-1608d7d39caf",
        "colab": {
          "base_uri": "https://localhost:8080/"
        }
      },
      "outputs": [
        {
          "output_type": "stream",
          "name": "stdout",
          "text": [
            "Array: [1 2 3 4]\n",
            "Array with range: [0 1 2 3 4 5 6 7 8 9]\n",
            "Array of zeros:\n",
            "[[0. 0. 0.]\n",
            " [0. 0. 0.]\n",
            " [0. 0. 0.]]\n",
            "Array of ones:\n",
            "[[1. 1.]\n",
            " [1. 1.]]\n",
            "Reshaped array:\n",
            "[[0 1 2 3 4]\n",
            " [5 6 7 8 9]]\n",
            "Shape of the array: (2, 5)\n",
            "Array after addition: [3 4 5 6]\n",
            "Array after multiplication: [ 3  6  9 12]\n",
            "Element-wise addition: [ 6  8 10 12]\n",
            "Element-wise multiplication: [ 5 12 21 32]\n"
          ]
        }
      ],
      "source": [
        "# Creating an array\n",
        "arr = np.array([1, 2, 3, 4])\n",
        "print(f'Array: {arr}')\n",
        "\n",
        "# Creating an array with a range of values\n",
        "arr_range = np.arange(10)\n",
        "print(f'Array with range: {arr_range}')\n",
        "\n",
        "# Creating an array of zeros\n",
        "arr_zeros = np.zeros((3, 3))\n",
        "print(f'Array of zeros:\\n{arr_zeros}')\n",
        "\n",
        "# Creating an array of ones\n",
        "arr_ones = np.ones((2, 2))\n",
        "print(f'Array of ones:\\n{arr_ones}')\n",
        "\n",
        "# Reshaping an array\n",
        "arr_reshaped = arr_range.reshape((2, 5))\n",
        "print(f'Reshaped array:\\n{arr_reshaped}')\n",
        "\n",
        "# Getting the shape of an array\n",
        "print(f'Shape of the array: {arr_reshaped.shape}')\n",
        "\n",
        "# Basic arithmetic operations\n",
        "arr_sum = arr + 2\n",
        "print(f'Array after addition: {arr_sum}')\n",
        "arr_mul = arr * 3\n",
        "print(f'Array after multiplication: {arr_mul}')\n",
        "\n",
        "# Element-wise operations\n",
        "arr1 = np.array([1, 2, 3, 4])\n",
        "arr2 = np.array([5, 6, 7, 8])\n",
        "arr_add = arr1 + arr2\n",
        "print(f'Element-wise addition: {arr_add}')\n",
        "arr_mul = arr1 * arr2\n",
        "print(f'Element-wise multiplication: {arr_mul}')"
      ]
    },
    {
      "cell_type": "code",
      "source": [],
      "metadata": {
        "id": "5GjHyR_2lAVi"
      },
      "execution_count": null,
      "outputs": []
    },
    {
      "cell_type": "markdown",
      "metadata": {
        "id": "lS3ke0V3THPb"
      },
      "source": [
        "## Adding and Averaging Based on Different Axes\n",
        "In this section, we will explore how to perform addition and averaging operations along different axes in NumPy arrays."
      ]
    },
    {
      "cell_type": "code",
      "execution_count": 11,
      "metadata": {
        "id": "1S-PPnDfTHPd",
        "outputId": "4474e710-d26c-4e0c-cfaf-ff06a97b3022",
        "colab": {
          "base_uri": "https://localhost:8080/"
        }
      },
      "outputs": [
        {
          "output_type": "stream",
          "name": "stdout",
          "text": [
            "Array 1:\n",
            "[[ 1  2  3  4]\n",
            " [ 5  6  7  8]\n",
            " [ 9 10 11 12]\n",
            " [13 14 15 16]]\n",
            "Array 2:\n",
            "[[16 15 14 13]\n",
            " [12 11 10  9]\n",
            " [ 8  7  6  5]\n",
            " [ 4  3  2  1]]\n",
            "Sum of arrays:\n",
            "[[17 17 17 17]\n",
            " [17 17 17 17]\n",
            " [17 17 17 17]\n",
            " [17 17 17 17]]\n",
            "Average along axis 0: [17. 17. 17. 17.]\n",
            "Average along axis 1: [17. 17. 17. 17.]\n"
          ]
        }
      ],
      "source": [
        "# Creating two 2D arrays with shape (4, 4)\n",
        "arr1 = np.array([[1, 2, 3, 4], [5, 6, 7, 8], [9, 10, 11, 12], [13, 14, 15, 16]])\n",
        "arr2 = np.array([[16, 15, 14, 13], [12, 11, 10, 9], [8, 7, 6, 5], [4, 3, 2, 1]])\n",
        "print(f'Array 1:\\n{arr1}')\n",
        "print(f'Array 2:\\n{arr2}')\n",
        "\n",
        "# Adding the arrays\n",
        "arr_sum = arr1 + arr2\n",
        "print(f'Sum of arrays:\\n{arr_sum}')\n",
        "\n",
        "# Averaging the arrays along different axes\n",
        "arr_avg_axis0 = np.mean(arr_sum, axis=0)\n",
        "print(f'Average along axis 0: {arr_avg_axis0}')\n",
        "\n",
        "arr_avg_axis1 = np.mean(arr_sum, axis=1)\n",
        "print(f'Average along axis 1: {arr_avg_axis1}')"
      ]
    },
    {
      "cell_type": "code",
      "execution_count": null,
      "metadata": {
        "id": "ko6CD85-THPf"
      },
      "outputs": [],
      "source": []
    }
  ],
  "metadata": {
    "kernelspec": {
      "display_name": "Python 3 (ipykernel)",
      "language": "python",
      "name": "python3"
    },
    "language_info": {
      "codemirror_mode": {
        "name": "ipython",
        "version": 3
      },
      "file_extension": ".py",
      "mimetype": "text/x-python",
      "name": "python",
      "nbconvert_exporter": "python",
      "pygments_lexer": "ipython3",
      "version": "3.11.5"
    },
    "colab": {
      "provenance": [],
      "include_colab_link": true
    }
  },
  "nbformat": 4,
  "nbformat_minor": 0
}