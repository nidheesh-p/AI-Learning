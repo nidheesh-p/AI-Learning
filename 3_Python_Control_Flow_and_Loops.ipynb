{
  "cells": [
    {
      "cell_type": "markdown",
      "metadata": {
        "id": "view-in-github",
        "colab_type": "text"
      },
      "source": [
        "<a href=\"https://colab.research.google.com/github/nidheesh-p/AI-Learning/blob/master/3_Python_Control_Flow_and_Loops.ipynb\" target=\"_parent\"><img src=\"https://colab.research.google.com/assets/colab-badge.svg\" alt=\"Open In Colab\"/></a>"
      ]
    },
    {
      "cell_type": "markdown",
      "metadata": {
        "id": "shApHmtSSqyG"
      },
      "source": [
        "# Python Control Flow and Loops\n",
        "In this notebook, we will cover control flow statements and loops in Python, including if, if-else, if-elif, if-elif-else, loops, nested loops, break and continue statements, and functions."
      ]
    },
    {
      "cell_type": "markdown",
      "metadata": {
        "id": "m8tIm4mnSqyQ"
      },
      "source": [
        "## If Statements\n",
        "The `if` statement is used to test a condition and execute a block of code if the condition is true."
      ]
    },
    {
      "cell_type": "code",
      "execution_count": 1,
      "metadata": {
        "id": "Nj6GKfmKSqyU",
        "colab": {
          "base_uri": "https://localhost:8080/"
        },
        "outputId": "66583f35-bf54-427a-880c-30c7e619fb19"
      },
      "outputs": [
        {
          "output_type": "stream",
          "name": "stdout",
          "text": [
            "10 is greater than 5\n"
          ]
        }
      ],
      "source": [
        "# If statement example\n",
        "x = 10\n",
        "if x > 5:\n",
        "    print(f'{x} is greater than 5')"
      ]
    },
    {
      "cell_type": "markdown",
      "metadata": {
        "id": "0T9-r_l7SqyZ"
      },
      "source": [
        "## If-Else Statements\n",
        "The `if-else` statement is used to test a condition and execute one block of code if the condition is true, and another block of code if the condition is false."
      ]
    },
    {
      "cell_type": "code",
      "execution_count": 2,
      "metadata": {
        "id": "DNOEUMsWSqya",
        "colab": {
          "base_uri": "https://localhost:8080/"
        },
        "outputId": "36b5b1fe-54c8-43a5-b1d3-869e40b8a8c7"
      },
      "outputs": [
        {
          "output_type": "stream",
          "name": "stdout",
          "text": [
            "10 is not greater than 15\n"
          ]
        }
      ],
      "source": [
        "# If-else statement example\n",
        "x = 10\n",
        "if x > 15:\n",
        "    print(f'{x} is greater than 15')\n",
        "else:\n",
        "    print(f'{x} is not greater than 15')"
      ]
    },
    {
      "cell_type": "markdown",
      "metadata": {
        "id": "QWDUK-FBSqyb"
      },
      "source": [
        "## If-Elif Statements\n",
        "The `if-elif` statement is used to test multiple conditions. If the first condition is false, it checks the next condition, and so on."
      ]
    },
    {
      "cell_type": "code",
      "execution_count": 3,
      "metadata": {
        "id": "BE6lbL3jSqyc",
        "colab": {
          "base_uri": "https://localhost:8080/"
        },
        "outputId": "fedf6a10-b9a0-4ee0-b97d-80892d217497"
      },
      "outputs": [
        {
          "output_type": "stream",
          "name": "stdout",
          "text": [
            "10 is greater than 5 but not greater than 15\n"
          ]
        }
      ],
      "source": [
        "# If-elif statement example\n",
        "x = 10\n",
        "if x > 15:\n",
        "    print(f'{x} is greater than 15')\n",
        "elif x > 5:\n",
        "    print(f'{x} is greater than 5 but not greater than 15')"
      ]
    },
    {
      "cell_type": "markdown",
      "metadata": {
        "id": "jbxdUN-qSqyf"
      },
      "source": [
        "## If-Elif-Else Statements\n",
        "The `if-elif-else` statement is used to test multiple conditions and execute different blocks of code based on which condition is true."
      ]
    },
    {
      "cell_type": "code",
      "execution_count": 4,
      "metadata": {
        "id": "wMNXTDQ0Sqyg",
        "colab": {
          "base_uri": "https://localhost:8080/"
        },
        "outputId": "69f7fd00-7b28-4ca5-a606-3c71e553fcf3"
      },
      "outputs": [
        {
          "output_type": "stream",
          "name": "stdout",
          "text": [
            "10 is greater than 5 but not greater than 10\n"
          ]
        }
      ],
      "source": [
        "# If-elif-else statement example\n",
        "x = 10\n",
        "if x > 15:\n",
        "    print(f'{x} is greater than 15')\n",
        "elif x > 10:\n",
        "    print(f'{x} is greater than 10 but not greater than 15')\n",
        "elif x > 5:\n",
        "    print(f'{x} is greater than 5 but not greater than 10')\n",
        "else:\n",
        "    print(f'{x} is not greater than 5')"
      ]
    },
    {
      "cell_type": "markdown",
      "metadata": {
        "id": "NBgmfQEgSqyh"
      },
      "source": [
        "## Loops\n",
        "Loops are used to execute a block of code multiple times. Python supports `for` and `while` loops."
      ]
    },
    {
      "cell_type": "code",
      "source": [],
      "metadata": {
        "id": "9ULN1Ov6X4h9"
      },
      "execution_count": null,
      "outputs": []
    },
    {
      "cell_type": "markdown",
      "metadata": {
        "id": "0Ex605E5Sqyi"
      },
      "source": [
        "### For Loops\n",
        "The `for` loop is used to iterate over a sequence (such as a list, tuple, or string) and execute a block of code for each item in the sequence."
      ]
    },
    {
      "cell_type": "code",
      "execution_count": 5,
      "metadata": {
        "id": "8kLsWr2qSqyi",
        "colab": {
          "base_uri": "https://localhost:8080/"
        },
        "outputId": "a95ac7b2-a692-45b2-99aa-cb84abc61db0"
      },
      "outputs": [
        {
          "output_type": "stream",
          "name": "stdout",
          "text": [
            "apple\n",
            "banana\n",
            "cherry\n"
          ]
        }
      ],
      "source": [
        "# For loop example\n",
        "fruits = ['apple', 'banana', 'cherry']\n",
        "for fruit in fruits:\n",
        "    print(fruit)"
      ]
    },
    {
      "cell_type": "markdown",
      "metadata": {
        "id": "Me9ACnFlSqyj"
      },
      "source": [
        "### While Loops\n",
        "The `while` loop is used to execute a block of code as long as a condition is true."
      ]
    },
    {
      "cell_type": "code",
      "execution_count": 6,
      "metadata": {
        "id": "XAw8LjLISqyj",
        "colab": {
          "base_uri": "https://localhost:8080/"
        },
        "outputId": "086e114f-1c66-4848-9f99-3d7c2cc11f7e"
      },
      "outputs": [
        {
          "output_type": "stream",
          "name": "stdout",
          "text": [
            "0\n",
            "1\n",
            "2\n",
            "3\n",
            "4\n"
          ]
        }
      ],
      "source": [
        "# While loop example\n",
        "count = 0\n",
        "while count < 5:\n",
        "    print(count)\n",
        "    count += 1"
      ]
    },
    {
      "cell_type": "markdown",
      "metadata": {
        "id": "aZfm-ZkcSqyk"
      },
      "source": [
        "## Nested Loops\n",
        "Nested loops are loops within loops. The inner loop is executed for each iteration of the outer loop."
      ]
    },
    {
      "cell_type": "code",
      "execution_count": 7,
      "metadata": {
        "id": "PbKwbdtMSqyl",
        "colab": {
          "base_uri": "https://localhost:8080/"
        },
        "outputId": "eb69cab7-a79c-4176-e019-5c00f839ecda"
      },
      "outputs": [
        {
          "output_type": "stream",
          "name": "stdout",
          "text": [
            "i = 0, j = 0\n",
            "i = 0, j = 1\n",
            "i = 1, j = 0\n",
            "i = 1, j = 1\n",
            "i = 2, j = 0\n",
            "i = 2, j = 1\n"
          ]
        }
      ],
      "source": [
        "# Nested loops example\n",
        "for i in range(3):\n",
        "    for j in range(2):\n",
        "        print(f'i = {i}, j = {j}')"
      ]
    },
    {
      "cell_type": "markdown",
      "metadata": {
        "id": "roM8BG7pSqyl"
      },
      "source": [
        "## Break and Continue\n",
        "The `break` statement is used to exit a loop prematurely, and the `continue` statement is used to skip the current iteration and proceed to the next iteration."
      ]
    },
    {
      "cell_type": "code",
      "execution_count": 8,
      "metadata": {
        "id": "8Q28ALpGSqyl",
        "colab": {
          "base_uri": "https://localhost:8080/"
        },
        "outputId": "32b90df7-8b55-4bcf-ed7c-b2a092cdb43f"
      },
      "outputs": [
        {
          "output_type": "stream",
          "name": "stdout",
          "text": [
            "0\n",
            "1\n",
            "2\n",
            "0\n",
            "1\n",
            "2\n",
            "4\n"
          ]
        }
      ],
      "source": [
        "# Break example\n",
        "for i in range(5):\n",
        "    if i == 3:\n",
        "        break\n",
        "    print(i)\n",
        "\n",
        "# Continue example\n",
        "for i in range(5):\n",
        "    if i == 3:\n",
        "        continue\n",
        "    print(i)"
      ]
    },
    {
      "cell_type": "markdown",
      "metadata": {
        "id": "k941IH19Sqym"
      },
      "source": [
        "## Functions\n",
        "Functions are reusable blocks of code that perform a specific task. They are defined using the `def` keyword."
      ]
    },
    {
      "cell_type": "code",
      "execution_count": 9,
      "metadata": {
        "id": "Y9fDhsC9Sqyn",
        "colab": {
          "base_uri": "https://localhost:8080/"
        },
        "outputId": "bf0bad98-ffe3-4698-e9a0-85cdfb2c7a35"
      },
      "outputs": [
        {
          "output_type": "stream",
          "name": "stdout",
          "text": [
            "Hello, Alice!\n",
            "Hello, Bob!\n"
          ]
        }
      ],
      "source": [
        "# Function example\n",
        "def greet(name):\n",
        "    return f'Hello, {name}!'\n",
        "\n",
        "# Call the function\n",
        "print(greet('Alice'))\n",
        "print(greet('Bob'))"
      ]
    }
  ],
  "metadata": {
    "kernelspec": {
      "display_name": "Python 3 (ipykernel)",
      "language": "python",
      "name": "python3"
    },
    "language_info": {
      "codemirror_mode": {
        "name": "ipython",
        "version": 3
      },
      "file_extension": ".py",
      "mimetype": "text/x-python",
      "name": "python",
      "nbconvert_exporter": "python",
      "pygments_lexer": "ipython3",
      "version": "3.11.5"
    },
    "colab": {
      "provenance": [],
      "include_colab_link": true
    }
  },
  "nbformat": 4,
  "nbformat_minor": 0
}